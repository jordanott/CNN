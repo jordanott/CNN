{
 "cells": [
  {
   "cell_type": "code",
   "execution_count": 15,
   "metadata": {
    "collapsed": false,
    "deletable": true,
    "editable": true
   },
   "outputs": [],
   "source": [
    "import sys\n",
    "sys.path.insert(0, 'net/')\n",
    "\n",
    "from net import net\n",
    "import numpy as np\n",
    "\n",
    "import numpy as np\n",
    "import matplotlib.pyplot as plt\n",
    "import math"
   ]
  },
  {
   "cell_type": "code",
   "execution_count": 36,
   "metadata": {
    "collapsed": true,
    "deletable": true,
    "editable": true
   },
   "outputs": [],
   "source": [
    "fc = net(.001)\n",
    "# height,width,depth\n",
    "fc.add_layer('input',shape=(2,1))\n",
    "fc.add_layer('output',num_neurons=2,activation='softmax')"
   ]
  },
  {
   "cell_type": "code",
   "execution_count": 37,
   "metadata": {
    "collapsed": false,
    "deletable": true,
    "editable": true
   },
   "outputs": [
    {
     "data": {
      "image/png": "[encoded data removed]",
      "text/plain": [
       "<matplotlib.figure.Figure at 0x7f53022a3ac8>"
      ]
     },
     "metadata": {},
     "output_type": "display_data"
    },
    {
     "name": "stdout",
     "output_type": "stream",
     "text": [
      "[[ 1.  0.]\n",
      " [ 1.  0.]\n",
      " [ 1.  0.]\n",
      " ..., \n",
      " [ 0.  1.]\n",
      " [ 0.  1.]\n",
      " [ 0.  1.]]\n"
     ]
    }
   ],
   "source": [
    "steps = 100000\n",
    "h = 0\n",
    "k = 0\n",
    "r = 1\n",
    "labels = np.zeros((steps))\n",
    "Y = np.zeros((steps,2))\n",
    "X = np.zeros((steps,2))\n",
    "counter = 0\n",
    "theta = np.arange(0,2*3.14,2*3.14/50000)\n",
    "\n",
    "for i in range(2): \n",
    "    for t in theta:\n",
    "        X_ = h + r*math.cos(t) + np.random.randn()*.8\n",
    "        Y_ = k - r*math.sin(t) + np.random.randn()*.8\n",
    "        X[counter] = np.array([X_,Y_])\n",
    "        labels[counter] = i\n",
    "        Y[counter,i] = 1\n",
    "        counter +=1\n",
    "    r += 5\n",
    "\n",
    "plt.scatter(X[:,0],X[:,1],c=labels,s=40,cmap=plt.cm.Spectral)\n",
    "plt.show()\n"
   ]
  },
  {
   "cell_type": "code",
   "execution_count": null,
   "metadata": {
    "collapsed": false
   },
   "outputs": [
    {
     "name": "stderr",
     "output_type": "stream",
     "text": [
      "layers/output_layer.py:44: FutureWarning: comparison to `None` will result in an elementwise object comparison in the future.\n",
      "  if self.weights == None:\n"
     ]
    }
   ],
   "source": [
    "counter = 0\n",
    "accuracy = 0\n",
    "for _ in range(5):\n",
    "    for i in range(0,len(X)):\n",
    "        predictions = fc.forward(X[i])\n",
    "        index = np.argmax(predictions)\n",
    "\n",
    "        gradient = fc.cross_entropy_gradient(predictions,Y[i])\n",
    "        fc.backward(gradient)\n",
    "\n",
    "for i in range(0,len(X)):\n",
    "    predictions = fc.forward(X[i])\n",
    "    index = np.argmax(predictions)\n",
    "\n",
    "    if Y[i][index] == 1:\n",
    "        accuracy += 1\n",
    "\n",
    "print(\"Accuracy:\",accuracy/float(len(X)))"
   ]
  },
  {
   "cell_type": "code",
   "execution_count": 31,
   "metadata": {
    "collapsed": false
   },
   "outputs": [
    {
     "name": "stderr",
     "output_type": "stream",
     "text": [
      "layers/fully_connected_layer.py:44: FutureWarning: comparison to `None` will result in an elementwise object comparison in the future.\n",
      "  if self.weights == None:\n",
      "layers/output_layer.py:44: FutureWarning: comparison to `None` will result in an elementwise object comparison in the future.\n",
      "  if self.weights == None:\n"
     ]
    },
    {
     "name": "stdout",
     "output_type": "stream",
     "text": [
      "[[  1.00165218e-04   9.99899835e-01]\n",
      " [  1.00165218e-04   9.99899835e-01]\n",
      " [  1.00165218e-04   9.99899835e-01]\n",
      " ..., \n",
      " [  1.00165218e-04   9.99899835e-01]\n",
      " [  1.00165218e-04   9.99899835e-01]\n",
      " [  1.00165218e-04   9.99899835e-01]]\n"
     ]
    },
    {
     "data": {
      "image/png": "[encoded data removed]",
      "text/plain": [
       "<matplotlib.figure.Figure at 0x7f530229a908>"
      ]
     },
     "metadata": {},
     "output_type": "display_data"
    }
   ],
   "source": [
    "# plot the resulting classifier\n",
    "h = 0.2\n",
    "x_min, x_max = X[:, 0].min() - 1, X[:, 0].max() + 1\n",
    "y_min, y_max = X[:, 1].min() - 1, X[:, 1].max() + 1\n",
    "\n",
    "xx, yy = np.meshgrid(np.arange(x_min, x_max, h),np.arange(y_min, y_max, h))\n",
    "\n",
    "new_x = xx.ravel()\n",
    "new_y = yy.ravel()\n",
    "\n",
    "counter = 0\n",
    "Z = np.zeros((new_x.shape[0],2))\n",
    "for ix in range(len(new_x)):\n",
    "    \n",
    "    Z[counter] = fc.forward(np.array([new_x[ix],new_y[ix]]).reshape(2,1))\n",
    "    counter += 1\n",
    "\n",
    "\n",
    "\n",
    "print(Z)\n",
    "Z = np.argmax(Z, axis=1)\n",
    "Z = Z.reshape(xx.shape)\n",
    "\n",
    "fig = plt.figure()\n",
    "plt.contourf(xx, yy, Z, cmap=plt.cm.Spectral, alpha=0.8)\n",
    "#plt.scatter(X[:,0],X[:,1],c=labels,s=40,cmap=plt.cm.Spectral)\n",
    "\n",
    "plt.show()"
   ]
  },
  {
   "cell_type": "code",
   "execution_count": 6,
   "metadata": {
    "collapsed": false
   },
   "outputs": [
    {
     "name": "stderr",
     "output_type": "stream",
     "text": [
      "layers/fully_connected_layer.py:44: FutureWarning: comparison to `None` will result in an elementwise object comparison in the future.\n",
      "  if self.weights == None:\n",
      "layers/output_layer.py:44: FutureWarning: comparison to `None` will result in an elementwise object comparison in the future.\n",
      "  if self.weights == None:\n"
     ]
    },
    {
     "data": {
      "text/plain": [
       "array([[  1.49179044e-05,   9.99985082e-01]])"
      ]
     },
     "execution_count": 6,
     "metadata": {},
     "output_type": "execute_result"
    }
   ],
   "source": [
    "fc.forward(np.array([.3,2]).reshape(2,1))"
   ]
  }
 ],
 "metadata": {
  "kernelspec": {
   "display_name": "Python 3",
   "language": "python",
   "name": "python3"
  },
  "language_info": {
   "codemirror_mode": {
    "name": "ipython",
    "version": 3
   },
   "file_extension": ".py",
   "mimetype": "text/x-python",
   "name": "python",
   "nbconvert_exporter": "python",
   "pygments_lexer": "ipython3",
   "version": "3.5.2"
  }
 },
 "nbformat": 4,
 "nbformat_minor": 2
}
